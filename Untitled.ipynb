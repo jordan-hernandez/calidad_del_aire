{
 "cells": [
  {
   "cell_type": "code",
   "execution_count": 5,
   "id": "92a36cd0",
   "metadata": {},
   "outputs": [
    {
     "ename": "KeyError",
     "evalue": "\"['pm25'] not in index\"",
     "output_type": "error",
     "traceback": [
      "\u001b[0;31m---------------------------------------------------------------------------\u001b[0m",
      "\u001b[0;31mKeyError\u001b[0m                                  Traceback (most recent call last)",
      "Cell \u001b[0;32mIn [5], line 60\u001b[0m\n\u001b[1;32m     58\u001b[0m \u001b[38;5;28;01mimport\u001b[39;00m \u001b[38;5;21;01mdatetime\u001b[39;00m \u001b[38;5;28;01mas\u001b[39;00m \u001b[38;5;21;01mdt\u001b[39;00m\n\u001b[1;32m     59\u001b[0m \u001b[38;5;66;03m# Gráfica de barras por mes\u001b[39;00m\n\u001b[0;32m---> 60\u001b[0m dk \u001b[38;5;241m=\u001b[39m \u001b[43mselected_df\u001b[49m\u001b[43m[\u001b[49m\u001b[43m[\u001b[49m\u001b[38;5;124;43m\"\u001b[39;49m\u001b[38;5;124;43mlocation\u001b[39;49m\u001b[38;5;124;43m\"\u001b[39;49m\u001b[43m,\u001b[49m\u001b[43m \u001b[49m\u001b[43mparameter\u001b[49m\u001b[43m,\u001b[49m\u001b[43m \u001b[49m\u001b[38;5;124;43m\"\u001b[39;49m\u001b[38;5;124;43mdate.utc\u001b[39;49m\u001b[38;5;124;43m\"\u001b[39;49m\u001b[43m]\u001b[49m\u001b[43m]\u001b[49m\n\u001b[1;32m     61\u001b[0m dk_ \u001b[38;5;241m=\u001b[39m dk\u001b[38;5;241m.\u001b[39mgroupby([dk[\u001b[38;5;124m\"\u001b[39m\u001b[38;5;124mdate.utc\u001b[39m\u001b[38;5;124m\"\u001b[39m]\u001b[38;5;241m.\u001b[39mdt\u001b[38;5;241m.\u001b[39mmonth, pd\u001b[38;5;241m.\u001b[39mGrouper(key\u001b[38;5;241m=\u001b[39m\u001b[38;5;124m\"\u001b[39m\u001b[38;5;124mlocation\u001b[39m\u001b[38;5;124m\"\u001b[39m)])\u001b[38;5;241m.\u001b[39mmean()\u001b[38;5;241m.\u001b[39mdropna()\n\u001b[1;32m     63\u001b[0m \u001b[38;5;66;03m# Convertir los números de mes a nombres de mes\u001b[39;00m\n\u001b[1;32m     64\u001b[0m \u001b[38;5;66;03m#dk_.reset_index(inplace=True)\u001b[39;00m\n\u001b[1;32m     65\u001b[0m \u001b[38;5;66;03m#dk_[\"date.utc\"] = dk_[\"date.utc\"].apply(lambda x: calendar.month_abbr[int(x)])\u001b[39;00m\n\u001b[1;32m     66\u001b[0m \n\u001b[1;32m     67\u001b[0m \u001b[38;5;66;03m# Crear la gráfica de barras con Plotly Express\u001b[39;00m\n",
      "File \u001b[0;32m~/.local/lib/python3.10/site-packages/pandas/core/frame.py:3810\u001b[0m, in \u001b[0;36mDataFrame.__getitem__\u001b[0;34m(self, key)\u001b[0m\n\u001b[1;32m   3808\u001b[0m     \u001b[38;5;28;01mif\u001b[39;00m is_iterator(key):\n\u001b[1;32m   3809\u001b[0m         key \u001b[38;5;241m=\u001b[39m \u001b[38;5;28mlist\u001b[39m(key)\n\u001b[0;32m-> 3810\u001b[0m     indexer \u001b[38;5;241m=\u001b[39m \u001b[38;5;28;43mself\u001b[39;49m\u001b[38;5;241;43m.\u001b[39;49m\u001b[43mcolumns\u001b[49m\u001b[38;5;241;43m.\u001b[39;49m\u001b[43m_get_indexer_strict\u001b[49m\u001b[43m(\u001b[49m\u001b[43mkey\u001b[49m\u001b[43m,\u001b[49m\u001b[43m \u001b[49m\u001b[38;5;124;43m\"\u001b[39;49m\u001b[38;5;124;43mcolumns\u001b[39;49m\u001b[38;5;124;43m\"\u001b[39;49m\u001b[43m)\u001b[49m[\u001b[38;5;241m1\u001b[39m]\n\u001b[1;32m   3812\u001b[0m \u001b[38;5;66;03m# take() does not accept boolean indexers\u001b[39;00m\n\u001b[1;32m   3813\u001b[0m \u001b[38;5;28;01mif\u001b[39;00m \u001b[38;5;28mgetattr\u001b[39m(indexer, \u001b[38;5;124m\"\u001b[39m\u001b[38;5;124mdtype\u001b[39m\u001b[38;5;124m\"\u001b[39m, \u001b[38;5;28;01mNone\u001b[39;00m) \u001b[38;5;241m==\u001b[39m \u001b[38;5;28mbool\u001b[39m:\n",
      "File \u001b[0;32m~/.local/lib/python3.10/site-packages/pandas/core/indexes/base.py:6111\u001b[0m, in \u001b[0;36mIndex._get_indexer_strict\u001b[0;34m(self, key, axis_name)\u001b[0m\n\u001b[1;32m   6108\u001b[0m \u001b[38;5;28;01melse\u001b[39;00m:\n\u001b[1;32m   6109\u001b[0m     keyarr, indexer, new_indexer \u001b[38;5;241m=\u001b[39m \u001b[38;5;28mself\u001b[39m\u001b[38;5;241m.\u001b[39m_reindex_non_unique(keyarr)\n\u001b[0;32m-> 6111\u001b[0m \u001b[38;5;28;43mself\u001b[39;49m\u001b[38;5;241;43m.\u001b[39;49m\u001b[43m_raise_if_missing\u001b[49m\u001b[43m(\u001b[49m\u001b[43mkeyarr\u001b[49m\u001b[43m,\u001b[49m\u001b[43m \u001b[49m\u001b[43mindexer\u001b[49m\u001b[43m,\u001b[49m\u001b[43m \u001b[49m\u001b[43maxis_name\u001b[49m\u001b[43m)\u001b[49m\n\u001b[1;32m   6113\u001b[0m keyarr \u001b[38;5;241m=\u001b[39m \u001b[38;5;28mself\u001b[39m\u001b[38;5;241m.\u001b[39mtake(indexer)\n\u001b[1;32m   6114\u001b[0m \u001b[38;5;28;01mif\u001b[39;00m \u001b[38;5;28misinstance\u001b[39m(key, Index):\n\u001b[1;32m   6115\u001b[0m     \u001b[38;5;66;03m# GH 42790 - Preserve name from an Index\u001b[39;00m\n",
      "File \u001b[0;32m~/.local/lib/python3.10/site-packages/pandas/core/indexes/base.py:6174\u001b[0m, in \u001b[0;36mIndex._raise_if_missing\u001b[0;34m(self, key, indexer, axis_name)\u001b[0m\n\u001b[1;32m   6171\u001b[0m     \u001b[38;5;28;01mraise\u001b[39;00m \u001b[38;5;167;01mKeyError\u001b[39;00m(\u001b[38;5;124mf\u001b[39m\u001b[38;5;124m\"\u001b[39m\u001b[38;5;124mNone of [\u001b[39m\u001b[38;5;132;01m{\u001b[39;00mkey\u001b[38;5;132;01m}\u001b[39;00m\u001b[38;5;124m] are in the [\u001b[39m\u001b[38;5;132;01m{\u001b[39;00maxis_name\u001b[38;5;132;01m}\u001b[39;00m\u001b[38;5;124m]\u001b[39m\u001b[38;5;124m\"\u001b[39m)\n\u001b[1;32m   6173\u001b[0m not_found \u001b[38;5;241m=\u001b[39m \u001b[38;5;28mlist\u001b[39m(ensure_index(key)[missing_mask\u001b[38;5;241m.\u001b[39mnonzero()[\u001b[38;5;241m0\u001b[39m]]\u001b[38;5;241m.\u001b[39munique())\n\u001b[0;32m-> 6174\u001b[0m \u001b[38;5;28;01mraise\u001b[39;00m \u001b[38;5;167;01mKeyError\u001b[39;00m(\u001b[38;5;124mf\u001b[39m\u001b[38;5;124m\"\u001b[39m\u001b[38;5;132;01m{\u001b[39;00mnot_found\u001b[38;5;132;01m}\u001b[39;00m\u001b[38;5;124m not in index\u001b[39m\u001b[38;5;124m\"\u001b[39m)\n",
      "\u001b[0;31mKeyError\u001b[0m: \"['pm25'] not in index\""
     ]
    }
   ],
   "source": [
    "import streamlit as st\n",
    "import plotly.express as px\n",
    "import datetime as dt\n",
    "import datetime\n",
    "import pandas as pd\n",
    "import pytz\n",
    "import calendar\n",
    "\n",
    "# Leer los datos para cada año\n",
    "df_2020 =pd.read_csv(\"./src/proyecto_calidad_del_aire.csv\")\n",
    "df_2021 =pd.read_csv(\"./src/datos_calidad_2021.csv\")\n",
    "df_2023 =pd.read_csv(\"./src/datos_calidad_2.csv\")\n",
    "\n",
    "# Crear un diccionario para almacenar los DataFrames de cada año\n",
    "dataframes = {\"2020\": df_2020, \"2021\": df_2021, \"2023\": df_2023}\n",
    "\n",
    "# Título principal\n",
    "st.title(\"Calidad del aire en Medellín\")\n",
    "\n",
    "# Menú desplegable para seleccionar el año\n",
    "selected_year = st.selectbox(\"Seleccionar año\", list(dataframes.keys()))\n",
    "\n",
    "def aggregate_columns(df):\n",
    "  df[\"pm25\"]= df[df[\"parameter\"]==\"pm25\"][\"value\"]\n",
    "  df[\"pm10\"]= df[df[\"parameter\"]==\"pm10\"][\"value\"]\n",
    "  df[\"o3\"]= df[df[\"parameter\"]==\"o3\"][\"value\"]\n",
    "  df[\"no2\"]= df[df[\"parameter\"]==\"no2\"][\"value\"]\n",
    "  df[\"co\"]= df[df[\"parameter\"]==\"co\"][\"value\"]\n",
    "  df[\"so2\"]= df[df[\"parameter\"]==\"so2\"][\"value\"]\n",
    "\n",
    "  return df\n",
    "\n",
    "\n",
    "\n",
    "# Obtener el DataFrame correspondiente al año seleccionado\n",
    "\n",
    "selected_year= \"2023\"\n",
    "selected_df = dataframes[selected_year]\n",
    "#df= selected_df.copy()\n",
    "# # Convertir a datetime\n",
    "#if selected_year==\"2023\":\n",
    "#  selected_df= aggregate_columns(selected_df)\n",
    "\n",
    "selected_df[\"date.utc\"] = pd.to_datetime(selected_df[\"date.utc\"])\n",
    "selected_df.reset_index(drop=True, inplace=True)\n",
    "\n",
    "# # Eliminar valores que no tienen sentido\n",
    "selected_df.drop(selected_df[selected_df[\"value\"]==-9999.0].index, inplace=True)\n",
    "\n",
    "# # Group by para graficar \n",
    "# grouped_df = df.groupby([\"location\", \"date.utc\"])[[\"pm10\", \"pm25\", \"o3\", \"no2\", \"co\", \"so2\"]].sum()\n",
    "\n",
    "\n",
    "# Mostrar un desplegable para seleccionar el parámetro\n",
    "#parameter = st.selectbox(\"Seleccionar parámetro\", [\"pm25\", \"pm10\", \"no2\", \"o3\", \"co\"])\n",
    "\n",
    "\n",
    "import datetime as dt\n",
    "# Gráfica de barras por mes\n",
    "dk = selected_df[[\"location\", parameter, \"date.utc\"]]\n",
    "dk_ = dk.groupby([dk[\"date.utc\"].dt.month, pd.Grouper(key=\"location\")]).mean().dropna()\n",
    "\n",
    "# Convertir los números de mes a nombres de mes\n",
    "#dk_.reset_index(inplace=True)\n",
    "#dk_[\"date.utc\"] = dk_[\"date.utc\"].apply(lambda x: calendar.month_abbr[int(x)])\n",
    "\n",
    "# Crear la gráfica de barras con Plotly Express\n",
    "fig = px.bar(dk_, x='date.utc', y=parameter, color='location', barmode='group',\n",
    "             labels={\"date.utc\": \"Mes\", parameter: f\" Concentración  {parameter}  ($\\mu g/m$)\"},\n",
    "             width=1100,  # Ancho de la gráfica en píxeles\n",
    "             height=600   # Altura de la gráfica en píxeles\n",
    "             )"
   ]
  },
  {
   "cell_type": "code",
   "execution_count": null,
   "id": "25a746c9",
   "metadata": {},
   "outputs": [],
   "source": []
  }
 ],
 "metadata": {
  "kernelspec": {
   "display_name": "Python 3 (ipykernel)",
   "language": "python",
   "name": "python3"
  },
  "language_info": {
   "codemirror_mode": {
    "name": "ipython",
    "version": 3
   },
   "file_extension": ".py",
   "mimetype": "text/x-python",
   "name": "python",
   "nbconvert_exporter": "python",
   "pygments_lexer": "ipython3",
   "version": "3.10.12"
  }
 },
 "nbformat": 4,
 "nbformat_minor": 5
}
